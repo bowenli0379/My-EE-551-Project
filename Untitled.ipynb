{
 "cells": [
  {
   "cell_type": "code",
   "execution_count": 4,
   "metadata": {},
   "outputs": [],
   "source": [
    "class WindowAverage(object):\n",
    "    def __int__(self, size):\n",
    "        \n",
    "        self.queue = collections.deque()\n",
    "        self.size = size\n",
    "        self.total = 0\n",
    "        \n",
    "    def next(self, value):\n",
    "        self.total += value\n",
    "        self.queue.append(value)\n",
    "        \n",
    "        if len(self.queue) > self.size:\n",
    "            self.total -= self.queue.popleft()\n",
    "            \n",
    "        return float(self.total) / len(self.queue)"
   ]
  },
  {
   "cell_type": "code",
   "execution_count": 7,
   "metadata": {},
   "outputs": [],
   "source": [
    "def test_window2():\n",
    "    w = WindowAverage(2)\n",
    "    assert(w.next(6) == 6)\n",
    "    assert(w.next(8) == (6 + 8) / 2)\n",
    "    assert (w.next(3) == (8 + 3) / 2)"
   ]
  },
  {
   "cell_type": "code",
   "execution_count": null,
   "metadata": {},
   "outputs": [],
   "source": []
  }
 ],
 "metadata": {
  "kernelspec": {
   "display_name": "Python 3",
   "language": "python",
   "name": "python3"
  },
  "language_info": {
   "codemirror_mode": {
    "name": "ipython",
    "version": 3
   },
   "file_extension": ".py",
   "mimetype": "text/x-python",
   "name": "python",
   "nbconvert_exporter": "python",
   "pygments_lexer": "ipython3",
   "version": "3.6.8"
  }
 },
 "nbformat": 4,
 "nbformat_minor": 2
}
